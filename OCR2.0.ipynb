{
 "cells": [
  {
   "cell_type": "code",
   "execution_count": null,
   "id": "136ac672-27fb-4e29-b8a7-b7fa262a84f5",
   "metadata": {},
   "outputs": [],
   "source": []
  }
 ],
 "metadata": {
  "kernelspec": {
   "display_name": "",
   "name": ""
  },
  "language_info": {
   "name": ""
  }
 },
 "nbformat": 4,
 "nbformat_minor": 5
}
